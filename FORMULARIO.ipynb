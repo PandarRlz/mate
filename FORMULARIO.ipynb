{
  "cells": [
    {
      "cell_type": "code",
      "execution_count": null,
      "metadata": {
        "id": "YKeT4OcsR_PE"
      },
      "outputs": [],
      "source": [
        "#DEFINE LA FUNCIÓN Y REEMPLAZA EN X\n",
        "\n",
        "def F(x): #Nombra función\n",
        "    return #Define función\n",
        "\n",
        "print(f'{F(k):.0f}') #Evalúa función para un valor k"
      ]
    },
    {
      "cell_type": "code",
      "execution_count": null,
      "metadata": {
        "id": "SsjarGecSTl2"
      },
      "outputs": [],
      "source": [
        "#DESPEJAR EL VALOR DE X\n",
        "\n",
        "import numpy as np\n",
        "from scipy.optimize import fsolve\n",
        "\n",
        "def G(x): #Nombrar función para la V.I.\n",
        "\n",
        "    return #Función igualada a 0\n",
        "\n",
        "x = np.linspace(a, b, c) #Parámetros donde buscará solución\n",
        "\n",
        "solucion=fsolve(G, x)\n",
        "\n",
        "print( f'{solucion[0]:.1f}')"
      ]
    },
    {
      "cell_type": "code",
      "execution_count": null,
      "metadata": {
        "id": "Gut39AY9SYEU"
      },
      "outputs": [],
      "source": [
        "#GRAFICAR\n",
        "\n",
        "import matplotlib.pyplot as plt\n",
        "import numpy as np\n",
        "\n",
        "def F(x): #nombrar la función\n",
        "    return #definir función\n",
        "\n",
        "x = np.arange(a, b, c) #Define valores para el eje x: desde, hasta, diferencia\n",
        "\n",
        "plt.plot(x, F(x)) #Indicar lo que se grafica: x, función\n",
        "plt.xlim(l , m) #Indica desde-hasta en eje x\n",
        "plt.title('Título del gráfico') #Indica título del gráfico\n",
        "plt.xlabel('Variable independiente') #Nombre eje x\n",
        "plt.ylabel('Variable dependiente') #Nombre eje y\n",
        "\n",
        "plt.grid(True) #Indicamos que haya cuadrícula\n",
        "plt.show()"
      ]
    },
    {
      "cell_type": "code",
      "execution_count": null,
      "metadata": {},
      "outputs": [],
      "source": [
        "#DETERMINAR LA FORMA ALGEBRAICA DE LA FUNCIÓN \n",
        "\n",
        "import numpy as np \n",
        "\n",
        "#conjunto de elementos de la variable independiente\n",
        "lista1 = np.array([a1,a2,a3,a4,a5])\n",
        "\n",
        "#conjunto de elementos de la variable dependiente\n",
        "lista2 = np.array([b1,b2,b3,b4,b5])\n",
        "\n",
        "m,n = np.polyfit(lista1,lista2,1)\n",
        "\n",
        "print(f'La pendiente es {m:.2f}') # m: pendiente\n",
        "print(f'El coeficiente de posición es {n:.2f}') # n: coeficiente de posición"
      ]
    }
  ],
  "metadata": {
    "colab": {
      "provenance": []
    },
    "kernelspec": {
      "display_name": "Python 3",
      "name": "python3"
    },
    "language_info": {
      "name": "python"
    }
  },
  "nbformat": 4,
  "nbformat_minor": 0
}
